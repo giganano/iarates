{
 "cells": [
  {
   "cell_type": "code",
   "execution_count": 1,
   "id": "a515430a",
   "metadata": {},
   "outputs": [
    {
     "name": "stdout",
     "output_type": "stream",
     "text": [
      "sys.version_info(major=3, minor=10, micro=2, releaselevel='final', serial=0)\n"
     ]
    },
    {
     "name": "stderr",
     "output_type": "stream",
     "text": [
      "/Users/astrobeard/Work/Research/VICErepos/VICE/vice/__init__.py:141: UserWarning: Using un-released version of VICE\n",
      "  warnings.warn(\"Using un-released version of VICE\", UserWarning)\n"
     ]
    }
   ],
   "source": [
    "import matplotlib.pyplot as plt\n",
    "from plots.mpltoolkit import named_colors, markers, fancy_legend, load_mpl_presets\n",
    "import numpy as np\n",
    "import sys\n",
    "sys.path.append(\"..\")\n",
    "from src import asassn_catalog\n",
    "print(sys.version_info)"
   ]
  },
  {
   "cell_type": "code",
   "execution_count": 2,
   "id": "0e15c886",
   "metadata": {},
   "outputs": [],
   "source": [
    "def readcsv(filename):\n",
    "#     data = []\n",
    "    data = {}\n",
    "    with open(filename, 'r') as f:\n",
    "        f.readline() # get past header\n",
    "        while True:\n",
    "            line = f.readline()\n",
    "            if line == \"\": break\n",
    "            line = line.split(',')\n",
    "            for i in range(len(line)):\n",
    "                if line[i] == \"---\" or line[i] == \"\\'---\":\n",
    "                    line[i] = None\n",
    "                else:\n",
    "                    try:\n",
    "                        line[i] = float(line[i])\n",
    "                    except: pass\n",
    "#             data.append(line)\n",
    "            data[line[0]] = line[1:]\n",
    "        f.close()\n",
    "    return data"
   ]
  },
  {
   "cell_type": "code",
   "execution_count": 3,
   "id": "f4eed4ff",
   "metadata": {},
   "outputs": [],
   "source": [
    "# test = readcsv(\"../src/data/ext-host.csv\")"
   ]
  },
  {
   "cell_type": "code",
   "execution_count": 4,
   "id": "610383c1",
   "metadata": {},
   "outputs": [],
   "source": [
    "# test"
   ]
  },
  {
   "cell_type": "code",
   "execution_count": 27,
   "id": "05b1fbdb",
   "metadata": {},
   "outputs": [],
   "source": [
    "asassn_hosts = readcsv(\"../src/data/asassn-host.csv\")\n",
    "extern_hosts = readcsv(\"../src/data/ext-host.csv\")\n",
    "asassn_sne = readcsv(\"../src/data/asassn-sn.csv\")\n",
    "extern_sne = readcsv(\"../src/data/ext-sn.csv\")"
   ]
  },
  {
   "cell_type": "code",
   "execution_count": 17,
   "id": "3a988a01",
   "metadata": {},
   "outputs": [
    {
     "name": "stdout",
     "output_type": "stream",
     "text": [
      "2MASX J15570268+3725001\n",
      "2MASX J23331223-6034201\n",
      "NGC 4666\n"
     ]
    }
   ],
   "source": [
    "n = 0\n",
    "for i in range(len(asassn_catalog[\"HostName\"])):\n",
    "    host = asassn_catalog[\"HostName\"][i]\n",
    "#     n += int(host in asassn_hosts.keys() or host in extern_hosts.keys())\n",
    "    if host in asassn_hosts.keys() or host in extern_hosts.keys():\n",
    "#     if host in asassn_hosts.keys():\n",
    "        print(asassn_catalog[\"HostName\"][i])\n",
    "    else: pass\n",
    "# print(\"Number of hosts: %d\" % (len(asassn_catalog[\"HostName\"])))\n",
    "# print(\"n = %d\" % (n))"
   ]
  },
  {
   "cell_type": "code",
   "execution_count": 25,
   "id": "fa5d6718",
   "metadata": {},
   "outputs": [
    {
     "name": "stdout",
     "output_type": "stream",
     "text": [
      "{'SNName': 'ASASSN-14jg', 'IAUName': '---', 'DiscDate': '2014-10-29.05', 'RA': '23:33:13.82', 'Dec': '-60:34:12.5', 'Redshift': 0.014827, 'DiscMag': 15.0, 'PeakMag': 999.0, 'PeakMagV': 14.9, 'PeakMagg': 999.0, 'Offset': 13.98, 'Type': 'Ia', 'DiscAge': -3.0, 'HostName': '2MASX J23331223-6034201', 'Recovered': 'Yes', 'l': 319.1860552944768, 'b': -54.02074928263142, 'MagV_corrected': 14.85779636900507, 'dist_mod': 34.03856057137777, 'abs_M_peak': -19.1807642023727, 'comp_SNIa': 0.6136679543508385, 'F2_SNIa': 0.09370010825468461, 'weighted_N': 17.391076371955013}\n",
      "[0.014827, 'ASASSN-18abs', 'Unk', 9.4, 0.005, 16.3904, 0.0179, None, None, None, None, None, None, None, None, None, None, None, None, 13.54, 0.063, 12.828, 0.08, 12.668, 0.118, 13.216, 0.025, 13.154, 0.027]\n"
     ]
    }
   ],
   "source": [
    "host = \"2MASX J23331223-6034201\"\n",
    "# host = \"2MASX J15570268+3725001\"\n",
    "# host = \"NGC 4666\"\n",
    "# idx = list(asassn_hosts.keys()).index(host)\n",
    "idx = asassn_catalog[\"HostName\"].index(host)\n",
    "print(asassn_catalog[idx])\n",
    "print(asassn_hosts[host])\n",
    "# print(extern_hosts[host])\n",
    "# print(idx)"
   ]
  },
  {
   "cell_type": "code",
   "execution_count": 28,
   "id": "eba9b540",
   "metadata": {},
   "outputs": [
    {
     "name": "stdout",
     "output_type": "stream",
     "text": [
      "Number of SN in Dhvanil's catalog: 349\n",
      "n = 0\n"
     ]
    }
   ],
   "source": [
    "n = 0\n",
    "for i in range(len(asassn_catalog[\"SNName\"])):\n",
    "    name = asassn_catalog[\"SNName\"][i]\n",
    "    n += int(name in asassn_sne.keys() or name in extern_sne.keys())\n",
    "print(\"Number of SN in Dhvanil's catalog: %d\" % (len(asassn_catalog[\"SNName\"])))\n",
    "print(\"n = %d\" % (n))"
   ]
  },
  {
   "cell_type": "code",
   "execution_count": null,
   "id": "68199702",
   "metadata": {},
   "outputs": [],
   "source": []
  }
 ],
 "metadata": {
  "kernelspec": {
   "display_name": "Python 3 (ipykernel)",
   "language": "python",
   "name": "python3"
  },
  "language_info": {
   "codemirror_mode": {
    "name": "ipython",
    "version": 3
   },
   "file_extension": ".py",
   "mimetype": "text/x-python",
   "name": "python",
   "nbconvert_exporter": "python",
   "pygments_lexer": "ipython3",
   "version": "3.10.2"
  }
 },
 "nbformat": 4,
 "nbformat_minor": 5
}
