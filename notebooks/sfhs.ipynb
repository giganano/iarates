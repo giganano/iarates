{
 "cells": [
  {
   "cell_type": "code",
   "execution_count": 4,
   "id": "a23448fc",
   "metadata": {},
   "outputs": [],
   "source": [
    "import matplotlib.pyplot as plt\n",
    "from plots.mpltoolkit import named_colors, mpl_loc, fancy_legend, load_mpl_presets\n",
    "from scipy.integrate import quad\n",
    "import numpy as np\n",
    "import math as m\n",
    "load_mpl_presets()"
   ]
  },
  {
   "cell_type": "markdown",
   "id": "0d97539d",
   "metadata": {},
   "source": [
    "# How many SN Ia events per unit stellar mass would be expected given an exponential SFH and an exponential DTD?\n",
    "\n",
    "In my GCE models I usually take a $t^{-1.1}$ power-law DTD, but an exponential with e-folding timescale $\\tau_\\text{Ia}$ allows analytic solutions to this question. The SN Ia rate given this SFH and DTD, for a minimum delay time $t_\\text{D}$ and present-day at time $T$:\n",
    "\n",
    "$$\n",
    "\\begin{aligned}\n",
    "\\dot{N}_\\text{Ia} &= \\int_{t_\\text{D}}^T \\dot{M}_\\star(t) R_\\text{Ia}(T - t) dt\n",
    "\\\\\n",
    "&= \\int_{t_\\text{D}}^T \\dot{M}_{\\star,0} e^{-t/\\tau_\\text{sfh}}\\xi e^{-(T - t)/\\tau_\\text{Ia}} dt\n",
    "\\\\\n",
    "&= \\dot{M}_{\\star,0}\\xi \\int_{t_\\text{D}}^T e^{-t/\\tau_\\text{sfh}}e^{-T/\\tau_\\text{Ia}}e^{t/\\tau_\\text{Ia}} dt\n",
    "\\\\\n",
    "&= \\dot{M}_{\\star,0}\\xi e^{-T/\\tau_\\text{Ia}} \n",
    "\\int_{t_\\text{D}}^T e^{-t(\\tau_\\text{Ia} - \\tau_\\text{sfh}) / \\tau_\\text{Ia}\\tau_\\text{sfh}} dt\n",
    "\\\\\n",
    "&= \\dot{M}_{\\star,0}\\xi e^{-T/\\tau_\\text{Ia}} \\frac{\\tau_\\text{Ia}\\tau_\\text{sfh}}{\\tau_\\text{sfh} - \\tau_\\text{Ia}}\n",
    "e^{-t(\\tau_\\text{Ia} - \\tau_\\text{sfh})/\\tau_\\text{Ia}\\tau_\\text{sfh}}\\Big|_{t_\\text{D}}^T\n",
    "\\\\\n",
    "&= \\dot{M}_{\\star,0}\\xi e^{-T/\\tau_\\text{Ia}} \\frac{\\tau_\\text{Ia}\\tau_\\text{sfh}}{\\tau_\\text{sfh} - \\tau_\\text{Ia}}\n",
    "\\left[e^{-T(\\tau_\\text{Ia} - \\tau_\\text{sfh})/\\tau_\\text{Ia}\\tau_\\text{sfh}} -\n",
    "e^{-t_\\text{D}(\\tau_\\text{Ia} - \\tau_\\text{sfh})/\\tau_\\text{Ia}\\tau_\\text{sfh}}\\right]\n",
    "\\end{aligned}\n",
    "$$\n",
    "\n",
    "where $\\dot{M}_{\\star,0}$ is the initial height of the SFH at $t = 0$ and $\\xi$ is some overall normalizing factor on the SN Ia DTD. The stellar mass:\n",
    "\n",
    "$$\n",
    "\\begin{aligned}\n",
    "M_\\star &= \\int_0^T (1 - r) \\dot{M}_\\star(t) dt\n",
    "\\\\\n",
    "&= \\int_0^T (1 - r) \\dot{M}_{\\star,0}e^{-t/\\tau_\\text{sfh}} dt\n",
    "\\\\\n",
    "&= -(1 - r) \\dot{M}_{\\star,0} \\tau_\\text{sfh}e^{-t/\\tau_\\text{sfh}}\\Big|_0^T\n",
    "\\\\\n",
    "&= -(1 - r) \\dot{M}_{\\star,0} \\tau_\\text{sfh}\\left[e^{-T/\\tau_\\text{sfh}} - 1\\right]\n",
    "\\\\\n",
    "&= (1 - r) \\dot{M}_{\\star,0} \\tau_\\text{sfh}\\left[1 - e^{-T/\\tau_\\text{sfh}}\\right]\n",
    "\\end{aligned}\n",
    "$$\n",
    "\n",
    "where $r$ is the recycling fraction ($r \\approx 0.4$ for a Kroupa IMF). This assumes instantaneous recycling, which is a relatively good approximation - massive stars return their envelopes quickly, after which the full time-dependent recycling rate slows down considerably due to the lifetimes of lower mass stars. Taking into account time-dependent recycling would require a numerical calculation, but I would expect it to affect the computed specific Ia rates only at the $\\sim$10% level.\n",
    "\n",
    "Taking the ratio of the two, the normalization of the SFH and the e-folding timescale $\\tau_\\text{sfh}$ cancel:\n",
    "\n",
    "$$\n",
    "\\begin{aligned}\n",
    "\\frac{\\dot{N}_\\text{Ia}}{M_\\star} &= (1 - r)\\xi e^{-T/\\tau_\\text{Ia}}\n",
    "\\frac{\\tau_\\text{Ia}}{\\tau_\\text{sfh} - \\tau_\\text{Ia}}\n",
    "\\left[e^{-T(\\tau_\\text{Ia} - \\tau_\\text{sfh})/\\tau_\\text{Ia}\\tau_\\text{sfh}} -\n",
    "e^{-t_\\text{D}(\\tau_\\text{Ia} - \\tau_\\text{sfh})/\\tau_\\text{Ia}\\tau_\\text{sfh}}\\right]\n",
    "\\left[1 - e^{-T/\\tau_\\text{sfh}}\\right]^{-1}\n",
    "\\\\\n",
    "&\\sim e^{-T/\\tau_\\text{Ia}}\n",
    "\\frac{\\tau_\\text{Ia}}{\\tau_\\text{sfh} - \\tau_\\text{Ia}}\n",
    "\\left[e^{-T(\\tau_\\text{Ia} - \\tau_\\text{sfh})/\\tau_\\text{Ia}\\tau_\\text{sfh}} -\n",
    "e^{-t_\\text{D}(\\tau_\\text{Ia} - \\tau_\\text{sfh})/\\tau_\\text{Ia}\\tau_\\text{sfh}}\\right]\n",
    "\\left[1 - e^{-T/\\tau_\\text{sfh}}\\right]^{-1}\n",
    "\\end{aligned}\n",
    "$$\n",
    "\n",
    "For the last line I simply ignore the normalization as only the trend of $\\dot{N}_\\text{Ia}/M_\\star$ with $\\tau_\\text{sfh}$ is relevant. The value of $\\xi$ could be calculated by taking in a time-integrated value from a previous study on the SN Ia DTD (e.g. $\\sim2.2$ SN per 1000 $M_\\odot$ of star formation over the duty cycle of the DTD - [Maoz & Mannucci 2012](https://ui.adsabs.harvard.edu/abs/2012PASA...29..447M/abstract)).\n",
    "\n",
    "Typical values for these numbers are $\\tau_\\text{Ia} = 1.5$ Gyr, $t_\\text{D} = 150$ Myr, and $T = 13.7$ Gyr."
   ]
  },
  {
   "cell_type": "code",
   "execution_count": 2,
   "id": "e41dd0b7",
   "metadata": {},
   "outputs": [
    {
     "data": {
      "image/png": "[encoded data removed]",
      "text/plain": [
       "<Figure size 360x360 with 1 Axes>"
      ]
     },
     "metadata": {},
     "output_type": "display_data"
    }
   ],
   "source": [
    "fig = plt.figure()\n",
    "ax = fig.add_subplot(111)\n",
    "ax.set_xlabel(r\"$\\tau_\\text{sfh}$\")\n",
    "ax.set_ylabel(r\"$\\propto \\dot{N}_\\text{Ia}/M_\\star$ [$M_\\odot^{-1}$ Gyr$^{-1}$]\")\n",
    "\n",
    "def specia(tausfh, tauia = 1.5, td = 0.15, T = 13.7):\n",
    "    specia_ = m.exp(-T / tauia)\n",
    "    specia_ *= tauia / (tausfh - tauia)\n",
    "    specia_ *= (\n",
    "        m.exp(-T * (tauia - tausfh) / (tauia * tausfh)) -\n",
    "        m.exp(-td * (tauia - tausfh) / (tauia * tausfh))\n",
    "    )\n",
    "    specia_ /= 1 - m.exp(-T / tausfh)\n",
    "    return specia_\n",
    "\n",
    "xvals = np.linspace(0.01, 20, 1000)\n",
    "yvals = [100 * specia(_) for _ in xvals]\n",
    "ax.plot(xvals, yvals, c = named_colors()[\"black\"])\n",
    "\n",
    "plt.tight_layout()\n",
    "for ext in [\"pdf\", \"jpeg\"]:\n",
    "    kwargs = {}\n",
    "    if ext == \"jpeg\": kwargs[\"dpi\"] = 200\n",
    "    plt.savefig(\"iarate_vs_tausfh.%s\" % (ext), **kwargs)\n",
    "plt.show()"
   ]
  },
  {
   "cell_type": "code",
   "execution_count": 8,
   "id": "4287cdba",
   "metadata": {},
   "outputs": [],
   "source": [
    "A = 100\n",
    "T = 13.2\n",
    "\n",
    "def mdotstar(tau, tausfh):\n",
    "    return A * (T - tau) * m.exp(-(T - tau) / tausfh)\n",
    "\n",
    "def dtd(tau, delay = 0.1):\n",
    "    if tau < delay:\n",
    "        return 0\n",
    "    else:\n",
    "        return tau**(-1)\n",
    "\n",
    "def ndotia_integrand(tau, tausfh, delay = 0.1):\n",
    "    return mdotstar(tau, tausfh) * dtd(tau, delay = delay)\n",
    "\n",
    "def ndotia(tausfh = 5, delay = 0.1):\n",
    "    return quad(ndotia_integrand, 0, T, args = (tausfh, ))[0]\n",
    "\n",
    "def mstar(tausfh = 5):\n",
    "    return quad(mdotstar, 0, T, args = (tausfh, ))[0]"
   ]
  },
  {
   "cell_type": "code",
   "execution_count": 16,
   "id": "adc56620",
   "metadata": {},
   "outputs": [
    {
     "name": "stderr",
     "output_type": "stream",
     "text": [
      "/home/johnson.7419/tmp/ipykernel_32687/2245439415.py:5: RuntimeWarning: divide by zero encountered in double_scalars\n",
      "  return A * (T - tau) * m.exp(-(T - tau) / tausfh)\n"
     ]
    },
    {
     "data": {
      "image/png": "[encoded data removed]",
      "text/plain": [
       "<Figure size 360x360 with 1 Axes>"
      ]
     },
     "metadata": {},
     "output_type": "display_data"
    }
   ],
   "source": [
    "fig = plt.figure()\n",
    "ax = fig.add_subplot(111)\n",
    "ax.set_xlabel(r\"$\\tau_\\text{sfh}$ [Gyr]\", fontsize = 25)\n",
    "ax.set_ylabel(r\"$\\propto \\dot{\\text{N}}_\\text{Ia} / \\text{M}_\\star$ [M$_\\odot^{-1}$ Gyr$^{-1}$]\", fontsize = 25)\n",
    "ax.set_xlim([0, 20])\n",
    "ax.set_ylim([0.4, 5.6])\n",
    "ax.tick_params(labelsize = 22)\n",
    "\n",
    "xvals = np.linspace(0, 20, 1001)\n",
    "yvals = []\n",
    "for i in range(len(xvals)):\n",
    "    numerator = ndotia(tausfh = xvals[i])\n",
    "    denominator = mstar(tausfh = xvals[i])\n",
    "    if denominator:\n",
    "        yvals.append(10 * numerator / denominator)\n",
    "    else:\n",
    "        yvals.append(float(\"nan\"))\n",
    "ax.plot(xvals, yvals, c = named_colors()[\"black\"])\n",
    "\n",
    "plt.tight_layout()\n",
    "for ext in [\"pdf\", \"jpeg\"]:\n",
    "    kwargs = {}\n",
    "    if ext == \"jpeg\": kwargs[\"dpi\"] = 200\n",
    "    plt.savefig(\"../paper/iarate_vs_tausfh.%s\" % (ext), **kwargs)\n",
    "plt.show()"
   ]
  },
  {
   "cell_type": "code",
   "execution_count": null,
   "id": "a183671a",
   "metadata": {},
   "outputs": [],
   "source": []
  }
 ],
 "metadata": {
  "kernelspec": {
   "display_name": "Python 3 (ipykernel)",
   "language": "python",
   "name": "python3"
  },
  "language_info": {
   "codemirror_mode": {
    "name": "ipython",
    "version": 3
   },
   "file_extension": ".py",
   "mimetype": "text/x-python",
   "name": "python",
   "nbconvert_exporter": "python",
   "pygments_lexer": "ipython3",
   "version": "3.10.4"
  }
 },
 "nbformat": 4,
 "nbformat_minor": 5
}
